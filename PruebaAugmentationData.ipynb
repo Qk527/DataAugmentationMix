{
 "cells": [
  {
   "cell_type": "markdown",
   "id": "319aa2ab",
   "metadata": {},
   "source": [
    "# Data Augmentation Library Test"
   ]
  },
  {
   "cell_type": "markdown",
   "id": "bb2e6f6b",
   "metadata": {},
   "source": [
    "https://bhuvanagopalakrishna-basapur.medium.com/data-augmentation-in-nlp-b09e919daab5"
   ]
  },
  {
   "cell_type": "markdown",
   "id": "50766742",
   "metadata": {},
   "source": [
    "There are three standard methods to generate new data in NLP:  \n",
    "    - **Paraphrasing**  \n",
    "    - **Noising**  \n",
    "    - **Sampling**  \n",
    "\n",
    "![Alt text](https://miro.medium.com/max/1400/0*SPfMHZhYOrZRVdMC \"a title\")"
   ]
  },
  {
   "cell_type": "markdown",
   "id": "2fe32318",
   "metadata": {
    "heading_collapsed": true
   },
   "source": [
    "# AugLy"
   ]
  },
  {
   "cell_type": "raw",
   "id": "3f22c01a",
   "metadata": {
    "hidden": true
   },
   "source": [
    "https://github.com/facebookresearch/AugLy/blob/main/augly/text/__init__.py"
   ]
  },
  {
   "cell_type": "code",
   "execution_count": 1,
   "id": "5bbc6f86",
   "metadata": {
    "hidden": true
   },
   "outputs": [],
   "source": [
    "import augly.text as textaugs"
   ]
  },
  {
   "cell_type": "code",
   "execution_count": 2,
   "id": "8c86b085",
   "metadata": {
    "hidden": true
   },
   "outputs": [],
   "source": [
    "# Define input text\n",
    "#input_text = \"Hello, world! How are you today?\"\n",
    "input_text = \"Mi vieja mula ya no es lo que era\""
   ]
  },
  {
   "cell_type": "code",
   "execution_count": 3,
   "id": "deda6bb3",
   "metadata": {
    "hidden": true
   },
   "outputs": [
    {
     "name": "stdout",
     "output_type": "stream",
     "text": [
      "Mi vieja mual ya no es #lo que era\n"
     ]
    }
   ],
   "source": [
    "# Typos noise\n",
    "print(textaugs.simulate_typos(input_text))"
   ]
  },
  {
   "cell_type": "code",
   "execution_count": 4,
   "id": "3818e21a",
   "metadata": {
    "hidden": true
   },
   "outputs": [
    {
     "name": "stdout",
     "output_type": "stream",
     "text": [
      "Mi v̲i̲e̲j̲a̲ mula ya no es lo 𝓆𝓊𝑒 era\n"
     ]
    },
    {
     "data": {
      "text/plain": [
       "[{'name': 'replace_fun_fonts',\n",
       "  'input_type': 'string',\n",
       "  'src_length': 1,\n",
       "  'dst_length': 38,\n",
       "  'aug_p': 0.3,\n",
       "  'aug_min': 1,\n",
       "  'aug_max': 10000,\n",
       "  'granularity': 'word',\n",
       "  'vary_fonts': True,\n",
       "  'fonts_path': 'C:\\\\ProgramData\\\\Anaconda3\\\\lib\\\\site-packages\\\\augly\\\\assets\\\\text\\\\fun_fonts.json',\n",
       "  'n': 1,\n",
       "  'priority_words': None,\n",
       "  'intensity': 30.0}]"
      ]
     },
     "execution_count": 4,
     "metadata": {},
     "output_type": "execute_result"
    }
   ],
   "source": [
    "\"\"\"\n",
    "You can optionally pass in a metadata list, to which metadata about the\n",
    "augmentation will be appended including kwargs and intensity (defined based on\n",
    "the kwargs for each augmentation).\n",
    "\"\"\"\n",
    "meta = []\n",
    "print(\n",
    "    textaugs.replace_fun_fonts(\n",
    "        input_text, vary_fonts=True, granularity=\"word\", metadata=meta\n",
    "    )\n",
    ")\n",
    "meta"
   ]
  },
  {
   "cell_type": "code",
   "execution_count": 5,
   "id": "4fa1a8dd",
   "metadata": {
    "hidden": true
   },
   "outputs": [
    {
     "name": "stdout",
     "output_type": "stream",
     "text": [
      "ʍi vieja muᏝa ya no eṧ Ⓛo que erǺ\n"
     ]
    },
    {
     "data": {
      "text/plain": [
       "[{'name': 'replace_similar_unicode_chars',\n",
       "  'input_type': 'string',\n",
       "  'src_length': 1,\n",
       "  'dst_length': 33,\n",
       "  'aug_char_p': 0.3,\n",
       "  'aug_word_p': 0.6,\n",
       "  'min_char': 2,\n",
       "  'aug_char_min': 1,\n",
       "  'aug_char_max': 1000,\n",
       "  'aug_word_min': 1,\n",
       "  'aug_word_max': 1000,\n",
       "  'n': 1,\n",
       "  'mapping_path': 'C:\\\\ProgramData\\\\Anaconda3\\\\lib\\\\site-packages\\\\augly\\\\assets\\\\text\\\\letter_unicode_mapping.json',\n",
       "  'priority_words': None,\n",
       "  'intensity': 18.0}]"
      ]
     },
     "execution_count": 5,
     "metadata": {},
     "output_type": "execute_result"
    }
   ],
   "source": [
    "# Noise -> UnicodeChars\n",
    "meta = []\n",
    "aug = textaugs.ReplaceSimilarUnicodeChars(aug_word_p=0.6)\n",
    "print(aug(input_text, metadata=meta))\n",
    "meta"
   ]
  },
  {
   "cell_type": "code",
   "execution_count": 6,
   "id": "bfc75b7c",
   "metadata": {
    "hidden": true
   },
   "outputs": [
    {
     "name": "stdout",
     "output_type": "stream",
     "text": [
      "He has two sisters, but he always wanted a brother\n"
     ]
    }
   ],
   "source": [
    "# Swapping gender in text\n",
    "gendered_text = \"She has two brothers, but she always wanted a sister\"\n",
    "\n",
    "aug = textaugs.SwapGenderedWords(aug_word_p=1.0)\n",
    "print(aug(gendered_text))"
   ]
  },
  {
   "cell_type": "code",
   "execution_count": 7,
   "id": "d89cd665",
   "metadata": {
    "hidden": true
   },
   "outputs": [
    {
     "name": "stdout",
     "output_type": "stream",
     "text": [
      "[\"I'm Julieta\"]\n"
     ]
    }
   ],
   "source": [
    "#In English we can use contractions\n",
    "aug = textaugs.Contractions(aug_p=1.0)\n",
    "print(aug(\"I am Julieta\"))"
   ]
  },
  {
   "cell_type": "code",
   "execution_count": 8,
   "id": "8d277551",
   "metadata": {
    "hidden": true
   },
   "outputs": [
    {
     "data": {
      "text/plain": [
       "['hello: worl!d', 'bye p-lanet']"
      ]
     },
     "execution_count": 8,
     "metadata": {},
     "output_type": "execute_result"
    }
   ],
   "source": [
    "# noise -> agregate random puntuaction\n",
    "texts = [\"hello world\", \"bye planet\"]\n",
    "#texts = input_text\n",
    "\n",
    "augmented_synonyms = textaugs.insert_punctuation_chars(\n",
    "    texts,\n",
    "    granularity=\"all\",\n",
    "    cadence=5.0,\n",
    "    vary_chars=True,\n",
    ")\n",
    "augmented_synonyms"
   ]
  },
  {
   "cell_type": "code",
   "execution_count": 9,
   "id": "a761b473",
   "metadata": {
    "hidden": true
   },
   "outputs": [
    {
     "name": "stdout",
     "output_type": "stream",
     "text": [
      "['\\u202eare euq ol se on ay alum ajeiv iM\\u202c']\n"
     ]
    }
   ],
   "source": [
    "#Mirror (origin: fil-flp in computer vision)\n",
    "print(textaugs.replace_bidirectional(input_text))"
   ]
  },
  {
   "cell_type": "code",
   "execution_count": 10,
   "id": "1f067684",
   "metadata": {
    "hidden": true
   },
   "outputs": [
    {
     "name": "stdout",
     "output_type": "stream",
     "text": [
      "IVIi vieja mula ya no es lo que era\n"
     ]
    }
   ],
   "source": [
    "print(textaugs.replace_similar_chars(input_text))"
   ]
  },
  {
   "cell_type": "code",
   "execution_count": 11,
   "id": "ab6df4e2",
   "metadata": {
    "hidden": true
   },
   "outputs": [
    {
     "name": "stdout",
     "output_type": "stream",
     "text": [
      "ɐɹǝ ǝnb ol sǝ ou ɐʎ ɐlnɯ ɐɾǝᴉʌ ᴉW\n"
     ]
    }
   ],
   "source": [
    "print(textaugs.replace_upside_down(input_text))"
   ]
  },
  {
   "cell_type": "code",
   "execution_count": 12,
   "id": "0dac8b36",
   "metadata": {
    "hidden": true
   },
   "outputs": [
    {
     "name": "stdout",
     "output_type": "stream",
     "text": [
      "Mi vie ja m ula ya no es lo que era\n"
     ]
    }
   ],
   "source": [
    "print(textaugs.split_words(input_text))"
   ]
  },
  {
   "cell_type": "code",
   "execution_count": 13,
   "id": "734c459a",
   "metadata": {
    "hidden": true
   },
   "outputs": [],
   "source": [
    "from augly.text.composition import Compose, OneOf\n",
    "from augly.text.functional import (\n",
    "    apply_lambda,\n",
    "    change_case,\n",
    "    contractions,\n",
    "    get_baseline,\n",
    "    insert_punctuation_chars,\n",
    "    insert_whitespace_chars,\n",
    "    insert_zero_width_chars,\n",
    "    merge_words,\n",
    "    replace_bidirectional,\n",
    "    replace_fun_fonts,\n",
    "    replace_similar_chars,\n",
    "    replace_similar_unicode_chars,\n",
    "    replace_upside_down,\n",
    "    replace_words,\n",
    "    simulate_typos,\n",
    "    split_words,\n",
    "    swap_gendered_words,\n",
    ")"
   ]
  },
  {
   "cell_type": "code",
   "execution_count": 14,
   "id": "73028354",
   "metadata": {
    "hidden": true
   },
   "outputs": [
    {
     "name": "stdout",
     "output_type": "stream",
     "text": [
      "Mi vieja mula ya no es lo que era\n"
     ]
    }
   ],
   "source": [
    "print(apply_lambda(input_text))"
   ]
  },
  {
   "cell_type": "code",
   "execution_count": 15,
   "id": "e9255da2",
   "metadata": {
    "hidden": true
   },
   "outputs": [
    {
     "name": "stdout",
     "output_type": "stream",
     "text": [
      "['MI VIEJA mula ya NO es LO QUE era']\n"
     ]
    }
   ],
   "source": [
    "print(change_case(input_text))"
   ]
  },
  {
   "cell_type": "code",
   "execution_count": 16,
   "id": "8c3e1b24",
   "metadata": {
    "hidden": true
   },
   "outputs": [
    {
     "name": "stdout",
     "output_type": "stream",
     "text": [
      "Mi vieja mula ya no es lo que era\n"
     ]
    }
   ],
   "source": [
    "print(get_baseline(input_text))"
   ]
  },
  {
   "cell_type": "code",
   "execution_count": 17,
   "id": "3944aaaf",
   "metadata": {
    "hidden": true
   },
   "outputs": [
    {
     "name": "stdout",
     "output_type": "stream",
     "text": [
      "['M!i! !v!i!e!j!a! !m!u!l!a! !y!a! !n!o! !e!s! !l!o! !q!u!e! !e!r!a']\n"
     ]
    }
   ],
   "source": [
    "print(insert_punctuation_chars(input_text))"
   ]
  },
  {
   "cell_type": "code",
   "execution_count": 18,
   "id": "f7d72099",
   "metadata": {
    "hidden": true
   },
   "outputs": [
    {
     "name": "stdout",
     "output_type": "stream",
     "text": [
      "['M\\ti\\t \\tv\\ti\\te\\tj\\ta\\t \\tm\\tu\\tl\\ta\\t \\ty\\ta\\t \\tn\\to\\t \\te\\ts\\t \\tl\\to\\t \\tq\\tu\\te\\t \\te\\tr\\ta']\n"
     ]
    }
   ],
   "source": [
    "print(insert_whitespace_chars(input_text))"
   ]
  },
  {
   "cell_type": "code",
   "execution_count": 19,
   "id": "e51378c8",
   "metadata": {
    "hidden": true
   },
   "outputs": [
    {
     "name": "stdout",
     "output_type": "stream",
     "text": [
      "['M\\u2062i\\u2062 \\u2062v\\u2062i\\u2062e\\u2062j\\u2062a\\u2062 \\u2062m\\u2062u\\u2062l\\u2062a\\u2062 \\u2062y\\u2062a\\u2062 \\u2062n\\u2062o\\u2062 \\u2062e\\u2062s\\u2062 \\u2062l\\u2062o\\u2062 \\u2062q\\u2062u\\u2062e\\u2062 \\u2062e\\u2062r\\u2062a']\n"
     ]
    }
   ],
   "source": [
    "print(insert_zero_width_chars(input_text))"
   ]
  },
  {
   "cell_type": "code",
   "execution_count": 20,
   "id": "82225f74",
   "metadata": {
    "hidden": true
   },
   "outputs": [
    {
     "name": "stdout",
     "output_type": "stream",
     "text": [
      "Mi vieja mula ya noes lo queera\n"
     ]
    }
   ],
   "source": [
    "print(merge_words(input_text))"
   ]
  },
  {
   "cell_type": "code",
   "execution_count": 21,
   "id": "88f26a42",
   "metadata": {
    "hidden": true
   },
   "outputs": [
    {
     "name": "stdout",
     "output_type": "stream",
     "text": [
      "Mi vieja mula ya no es lo ⓠue ໂra\n"
     ]
    }
   ],
   "source": [
    "print(replace_similar_unicode_chars(input_text))"
   ]
  },
  {
   "cell_type": "code",
   "execution_count": 22,
   "id": "9125a818",
   "metadata": {
    "hidden": true
   },
   "outputs": [
    {
     "name": "stdout",
     "output_type": "stream",
     "text": [
      "Mi vieja mula ya no es lo que era\n"
     ]
    }
   ],
   "source": [
    "print(replace_words(input_text))"
   ]
  },
  {
   "cell_type": "markdown",
   "id": "fd5c8fe9",
   "metadata": {
    "heading_collapsed": true
   },
   "source": [
    "# Thesaurus"
   ]
  },
  {
   "cell_type": "raw",
   "id": "1afab00f",
   "metadata": {
    "hidden": true
   },
   "source": [
    "https://www.thesaurus.com/"
   ]
  },
  {
   "cell_type": "code",
   "execution_count": 23,
   "id": "8d6afee3",
   "metadata": {
    "hidden": true
   },
   "outputs": [],
   "source": [
    "from py_thesaurus import Thesaurus"
   ]
  },
  {
   "cell_type": "code",
   "execution_count": 24,
   "id": "026bf1c0",
   "metadata": {
    "hidden": true
   },
   "outputs": [],
   "source": [
    "input_word = \"dog\"\n",
    "\n",
    "new_instance = Thesaurus(input_word)"
   ]
  },
  {
   "cell_type": "code",
   "execution_count": 25,
   "id": "ecf112ef",
   "metadata": {
    "hidden": true
   },
   "outputs": [
    {
     "name": "stdout",
     "output_type": "stream",
     "text": [
      "[]\n",
      "[]\n",
      "[]\n"
     ]
    }
   ],
   "source": [
    "# Get the synonyms according to part of speech\n",
    "# Default part of speech is noun\n",
    "\n",
    "print(new_instance.get_synonym())\n",
    "\n",
    "print(new_instance.get_synonym(pos='verb'))\n",
    "\n",
    "print(new_instance.get_synonym(pos='adj'))"
   ]
  },
  {
   "cell_type": "code",
   "execution_count": 26,
   "id": "b9886c2b",
   "metadata": {
    "hidden": true
   },
   "outputs": [
    {
     "name": "stdout",
     "output_type": "stream",
     "text": [
      "Give a non-empty argument\n",
      "[]\n"
     ]
    }
   ],
   "source": [
    "# Get the definitions\n",
    "\n",
    "print(new_instance.get_definition())"
   ]
  },
  {
   "cell_type": "code",
   "execution_count": 27,
   "id": "66f3b095",
   "metadata": {
    "hidden": true
   },
   "outputs": [
    {
     "name": "stdout",
     "output_type": "stream",
     "text": [
      "[]\n"
     ]
    }
   ],
   "source": [
    "# Get the antonyms\n",
    "\n",
    "print(new_instance.get_antonym())"
   ]
  },
  {
   "cell_type": "markdown",
   "id": "9c35f4cf",
   "metadata": {},
   "source": [
    "# WordNet"
   ]
  },
  {
   "cell_type": "code",
   "execution_count": 28,
   "id": "fc430e2e",
   "metadata": {},
   "outputs": [
    {
     "name": "stderr",
     "output_type": "stream",
     "text": [
      "[nltk_data] Downloading package wordnet to\n",
      "[nltk_data]     C:\\Users\\MegaTecnologia\\AppData\\Roaming\\nltk_data...\n",
      "[nltk_data]   Package wordnet is already up-to-date!\n"
     ]
    }
   ],
   "source": [
    "import nltk\n",
    "nltk.download('wordnet')\n",
    "#nltk.download('omw-1.4')\n",
    "from nltk.corpus import wordnet"
   ]
  },
  {
   "cell_type": "code",
   "execution_count": 29,
   "id": "1daeef28",
   "metadata": {},
   "outputs": [],
   "source": [
    "def syn(word, lch_threshold=2.26):\n",
    "    for net1 in wordnet.synsets(word):\n",
    "        for net2 in wordnet.all_synsets():\n",
    "            try:\n",
    "                lch = net1.lch_similarity(net2)\n",
    "            except:\n",
    "                continue\n",
    "            # The value to compare the LCH to was found empirically.\n",
    "            if lch >= lch_threshold:\n",
    "                yield (net1, net2, lch)"
   ]
  },
  {
   "cell_type": "code",
   "execution_count": 30,
   "id": "09e652ba",
   "metadata": {},
   "outputs": [
    {
     "name": "stdout",
     "output_type": "stream",
     "text": [
      "(Synset('love.n.01'), Synset('feeling.n.01'), 2.538973871058276)\n",
      "(Synset('love.n.01'), Synset('conditioned_emotional_response.n.01'), 2.538973871058276)\n",
      "(Synset('love.n.01'), Synset('emotion.n.01'), 2.9444389791664407)\n",
      "(Synset('love.n.01'), Synset('worship.n.02'), 2.9444389791664407)\n",
      "(Synset('love.n.01'), Synset('anger.n.01'), 2.538973871058276)\n",
      "(Synset('love.n.01'), Synset('fear.n.01'), 2.538973871058276)\n",
      "(Synset('love.n.01'), Synset('fear.n.03'), 2.538973871058276)\n",
      "(Synset('love.n.01'), Synset('anxiety.n.02'), 2.538973871058276)\n",
      "(Synset('love.n.01'), Synset('joy.n.01'), 2.538973871058276)\n",
      "(Synset('love.n.01'), Synset('love.n.01'), 3.6375861597263857)\n",
      "(Synset('love.n.01'), Synset('agape.n.02'), 2.9444389791664407)\n",
      "(Synset('love.n.01'), Synset('agape.n.01'), 2.9444389791664407)\n",
      "(Synset('love.n.01'), Synset('filial_love.n.01'), 2.9444389791664407)\n",
      "(Synset('love.n.01'), Synset('ardor.n.02'), 2.9444389791664407)\n",
      "(Synset('love.n.01'), Synset('amorousness.n.01'), 2.9444389791664407)\n",
      "(Synset('love.n.01'), Synset('puppy_love.n.01'), 2.9444389791664407)\n",
      "(Synset('love.n.01'), Synset('devotion.n.01'), 2.9444389791664407)\n",
      "(Synset('love.n.01'), Synset('benevolence.n.01'), 2.9444389791664407)\n",
      "(Synset('love.n.01'), Synset('beneficence.n.01'), 2.538973871058276)\n",
      "(Synset('love.n.01'), Synset('heartstrings.n.01'), 2.9444389791664407)\n",
      "(Synset('love.n.01'), Synset('lovingness.n.01'), 2.9444389791664407)\n",
      "(Synset('love.n.01'), Synset('warmheartedness.n.01'), 2.538973871058276)\n",
      "(Synset('love.n.01'), Synset('loyalty.n.02'), 2.9444389791664407)\n",
      "(Synset('love.n.01'), Synset('hate.n.01'), 2.538973871058276)\n",
      "(Synset('love.n.01'), Synset('emotional_state.n.01'), 2.538973871058276)\n",
      "(Synset('love.n.02'), Synset('content.n.05'), 2.538973871058276)\n",
      "(Synset('love.n.02'), Synset('object.n.04'), 2.9444389791664407)\n",
      "(Synset('love.n.02'), Synset('antipathy.n.02'), 2.538973871058276)\n",
      "(Synset('love.n.02'), Synset('bugbear.n.02'), 2.538973871058276)\n",
      "(Synset('love.n.02'), Synset('execration.n.03'), 2.538973871058276)\n",
      "(Synset('love.n.02'), Synset('center.n.06'), 2.538973871058276)\n",
      "(Synset('love.n.02'), Synset('hallucination.n.03'), 2.538973871058276)\n",
      "(Synset('love.n.02'), Synset('infatuation.n.03'), 2.538973871058276)\n",
      "(Synset('love.n.02'), Synset('love.n.02'), 3.6375861597263857)\n",
      "(Synset('beloved.n.01'), Synset('person.n.01'), 2.538973871058276)\n",
      "(Synset('beloved.n.01'), Synset('lover.n.01'), 2.9444389791664407)\n",
      "(Synset('beloved.n.01'), Synset('admirer.n.03'), 2.538973871058276)\n",
      "(Synset('beloved.n.01'), Synset('beloved.n.01'), 3.6375861597263857)\n",
      "(Synset('beloved.n.01'), Synset('betrothed.n.01'), 2.538973871058276)\n",
      "(Synset('beloved.n.01'), Synset('boyfriend.n.01'), 2.538973871058276)\n",
      "(Synset('beloved.n.01'), Synset('darling.n.01'), 2.538973871058276)\n",
      "(Synset('beloved.n.01'), Synset('girlfriend.n.02'), 2.538973871058276)\n",
      "(Synset('beloved.n.01'), Synset('idolizer.n.01'), 2.538973871058276)\n",
      "(Synset('beloved.n.01'), Synset('inamorata.n.01'), 2.538973871058276)\n",
      "(Synset('beloved.n.01'), Synset('inamorato.n.01'), 2.538973871058276)\n",
      "(Synset('beloved.n.01'), Synset('kisser.n.01'), 2.538973871058276)\n",
      "(Synset('beloved.n.01'), Synset('necker.n.01'), 2.538973871058276)\n",
      "(Synset('beloved.n.01'), Synset('petter.n.01'), 2.538973871058276)\n",
      "(Synset('beloved.n.01'), Synset('romeo.n.01'), 2.538973871058276)\n",
      "(Synset('beloved.n.01'), Synset('soul_mate.n.01'), 2.538973871058276)\n",
      "(Synset('beloved.n.01'), Synset('squeeze.n.04'), 2.538973871058276)\n",
      "(Synset('beloved.n.01'), Synset('sweetheart.n.01'), 2.538973871058276)\n",
      "(Synset('love.n.04'), Synset('desire.n.01'), 2.538973871058276)\n",
      "(Synset('love.n.04'), Synset('sexual_desire.n.01'), 2.9444389791664407)\n",
      "(Synset('love.n.04'), Synset('love.n.04'), 3.6375861597263857)\n",
      "(Synset('love.n.04'), Synset('aphrodisia.n.01'), 2.538973871058276)\n",
      "(Synset('love.n.04'), Synset('anaphrodisia.n.01'), 2.538973871058276)\n",
      "(Synset('love.n.04'), Synset('passion.n.05'), 2.538973871058276)\n",
      "(Synset('love.n.04'), Synset('sensuality.n.01'), 2.538973871058276)\n",
      "(Synset('love.n.04'), Synset('amorousness.n.02'), 2.538973871058276)\n",
      "(Synset('love.n.04'), Synset('fetish.n.01'), 2.538973871058276)\n",
      "(Synset('love.n.04'), Synset('libido.n.01'), 2.538973871058276)\n",
      "(Synset('love.n.04'), Synset('lecherousness.n.01'), 2.538973871058276)\n",
      "(Synset('love.n.04'), Synset('nymphomania.n.01'), 2.538973871058276)\n",
      "(Synset('love.n.04'), Synset('satyriasis.n.01'), 2.538973871058276)\n",
      "(Synset('love.n.04'), Synset('the_hots.n.01'), 2.538973871058276)\n",
      "(Synset('love.n.05'), Synset('bowling_score.n.01'), 2.538973871058276)\n",
      "(Synset('love.n.05'), Synset('football_score.n.01'), 2.538973871058276)\n",
      "(Synset('love.n.05'), Synset('baseball_score.n.01'), 2.538973871058276)\n",
      "(Synset('love.n.05'), Synset('basketball_score.n.01'), 2.538973871058276)\n",
      "(Synset('love.n.05'), Synset('number.n.02'), 2.538973871058276)\n",
      "(Synset('love.n.05'), Synset('score.n.03'), 2.9444389791664407)\n",
      "(Synset('love.n.05'), Synset('stroke.n.06'), 2.538973871058276)\n",
      "(Synset('love.n.05'), Synset('birdie.n.01'), 2.538973871058276)\n",
      "(Synset('love.n.05'), Synset('bogey.n.02'), 2.538973871058276)\n",
      "(Synset('love.n.05'), Synset('deficit.n.03'), 2.538973871058276)\n",
      "(Synset('love.n.05'), Synset('double-bogey.n.01'), 2.538973871058276)\n",
      "(Synset('love.n.05'), Synset('duck.n.02'), 2.538973871058276)\n",
      "(Synset('love.n.05'), Synset('eagle.n.02'), 2.538973871058276)\n",
      "(Synset('love.n.05'), Synset('double_eagle.n.01'), 2.538973871058276)\n",
      "(Synset('love.n.05'), Synset('game.n.06'), 2.538973871058276)\n",
      "(Synset('love.n.05'), Synset('lead.n.07'), 2.538973871058276)\n",
      "(Synset('love.n.05'), Synset('love.n.05'), 3.6375861597263857)\n",
      "(Synset('love.n.05'), Synset('match.n.05'), 2.538973871058276)\n",
      "(Synset('love.n.05'), Synset('par.n.01'), 2.538973871058276)\n",
      "(Synset('sexual_love.n.02'), Synset('bondage.n.03'), 2.538973871058276)\n",
      "(Synset('sexual_love.n.02'), Synset('outercourse.n.01'), 2.538973871058276)\n",
      "(Synset('sexual_love.n.02'), Synset('safe_sex.n.01'), 2.538973871058276)\n",
      "(Synset('sexual_love.n.02'), Synset('sexual_activity.n.01'), 2.9444389791664407)\n",
      "(Synset('sexual_love.n.02'), Synset('conception.n.02'), 2.538973871058276)\n",
      "(Synset('sexual_love.n.02'), Synset('sexual_intercourse.n.01'), 2.538973871058276)\n",
      "(Synset('sexual_love.n.02'), Synset('pleasure.n.05'), 2.538973871058276)\n",
      "(Synset('sexual_love.n.02'), Synset('sexual_love.n.02'), 3.6375861597263857)\n",
      "(Synset('sexual_love.n.02'), Synset('carnal_abuse.n.01'), 2.538973871058276)\n",
      "(Synset('sexual_love.n.02'), Synset('coupling.n.03'), 2.538973871058276)\n",
      "(Synset('sexual_love.n.02'), Synset('reproduction.n.05'), 2.538973871058276)\n",
      "(Synset('sexual_love.n.02'), Synset('foreplay.n.01'), 2.538973871058276)\n",
      "(Synset('sexual_love.n.02'), Synset('perversion.n.02'), 2.538973871058276)\n",
      "(Synset('sexual_love.n.02'), Synset('autoeroticism.n.01'), 2.538973871058276)\n",
      "(Synset('sexual_love.n.02'), Synset('promiscuity.n.01'), 2.538973871058276)\n",
      "(Synset('sexual_love.n.02'), Synset('lechery.n.01'), 2.538973871058276)\n",
      "(Synset('sexual_love.n.02'), Synset('homosexuality.n.01'), 2.538973871058276)\n",
      "(Synset('sexual_love.n.02'), Synset('bisexuality.n.02'), 2.538973871058276)\n",
      "(Synset('sexual_love.n.02'), Synset('heterosexuality.n.01'), 2.538973871058276)\n",
      "(Synset('sexual_love.n.02'), Synset('bestiality.n.02'), 2.538973871058276)\n",
      "(Synset('sexual_love.n.02'), Synset('bodily_process.n.01'), 2.538973871058276)\n",
      "(Synset('love.v.01'), Synset('love.v.01'), 3.258096538021482)\n",
      "(Synset('love.v.01'), Synset('love.v.03'), 2.5649493574615367)\n",
      "(Synset('love.v.01'), Synset('care_for.v.02'), 2.5649493574615367)\n",
      "(Synset('love.v.01'), Synset('dote.v.02'), 2.5649493574615367)\n",
      "(Synset('love.v.01'), Synset('adore.v.01'), 2.5649493574615367)\n",
      "(Synset('love.v.02'), Synset('like.v.02'), 2.5649493574615367)\n",
      "(Synset('love.v.02'), Synset('love.v.02'), 3.258096538021482)\n",
      "(Synset('love.v.02'), Synset('get_off.v.06'), 2.5649493574615367)\n",
      "(Synset('love.v.03'), Synset('love.v.01'), 2.5649493574615367)\n",
      "(Synset('love.v.03'), Synset('love.v.03'), 3.258096538021482)\n",
      "(Synset('love.v.03'), Synset('romance.v.02'), 2.5649493574615367)\n",
      "(Synset('sleep_together.v.01'), Synset('sleep_together.v.01'), 3.258096538021482)\n",
      "(Synset('sleep_together.v.01'), Synset('take.v.35'), 2.5649493574615367)\n",
      "(Synset('sleep_together.v.01'), Synset('fornicate.v.01'), 2.5649493574615367)\n",
      "(Synset('sleep_together.v.01'), Synset('copulate.v.01'), 2.5649493574615367)\n"
     ]
    }
   ],
   "source": [
    "for x in syn('love'):\n",
    "    print (x)"
   ]
  },
  {
   "cell_type": "markdown",
   "id": "2523b34a",
   "metadata": {
    "heading_collapsed": true
   },
   "source": [
    "# Semantic Embeddings"
   ]
  },
  {
   "cell_type": "code",
   "execution_count": 31,
   "id": "76dd1455",
   "metadata": {
    "hidden": true
   },
   "outputs": [],
   "source": [
    "from gensim.models import KeyedVectors"
   ]
  },
  {
   "cell_type": "code",
   "execution_count": 32,
   "id": "d6e240be",
   "metadata": {
    "hidden": true
   },
   "outputs": [
    {
     "name": "stderr",
     "output_type": "stream",
     "text": [
      "loading KeyedVectors object from word2vec.kv\n",
      "loading wv recursively from word2vec.kv.wv.* with mmap=None\n",
      "setting ignored attribute cum_table to None\n",
      "Word2Vec lifecycle event {'fname': 'word2vec.kv', 'datetime': '2022-04-27T17:58:47.276885', 'gensim': '4.0.1', 'python': '3.8.10 | packaged by conda-forge | (default, May 11 2021, 06:25:23) [MSC v.1916 64 bit (AMD64)]', 'platform': 'Windows-10-10.0.19043-SP0', 'event': 'loaded'}\n"
     ]
    }
   ],
   "source": [
    "loaded_word_vectors = KeyedVectors.load('word2vec.kv')"
   ]
  },
  {
   "cell_type": "code",
   "execution_count": 34,
   "id": "96c02102",
   "metadata": {
    "hidden": true
   },
   "outputs": [
    {
     "data": {
      "text/plain": [
       "[('gr55', 0.9576658010482788),\n",
       " ('provision', 0.9559593200683594),\n",
       " ('informes', 0.9514330625534058)]"
      ]
     },
     "execution_count": 34,
     "metadata": {},
     "output_type": "execute_result"
    }
   ],
   "source": [
    "loaded_word_vectors.wv.most_similar(\"reporte\", topn=3)"
   ]
  },
  {
   "cell_type": "markdown",
   "id": "dffdeec7",
   "metadata": {
    "heading_collapsed": true
   },
   "source": [
    "# Conclusions"
   ]
  },
  {
   "cell_type": "markdown",
   "id": "ac591a87",
   "metadata": {
    "hidden": true
   },
   "source": [
    "![Alt text](https://miro.medium.com/max/1400/0*HRDJYmZ1FD0q83CD \"a title\")"
   ]
  },
  {
   "cell_type": "code",
   "execution_count": null,
   "id": "2a1423d8",
   "metadata": {
    "hidden": true
   },
   "outputs": [],
   "source": []
  }
 ],
 "metadata": {
  "kernelspec": {
   "display_name": "Python 3 (ipykernel)",
   "language": "python",
   "name": "python3"
  },
  "language_info": {
   "codemirror_mode": {
    "name": "ipython",
    "version": 3
   },
   "file_extension": ".py",
   "mimetype": "text/x-python",
   "name": "python",
   "nbconvert_exporter": "python",
   "pygments_lexer": "ipython3",
   "version": "3.8.10"
  },
  "latex_envs": {
   "LaTeX_envs_menu_present": true,
   "autoclose": false,
   "autocomplete": true,
   "bibliofile": "biblio.bib",
   "cite_by": "apalike",
   "current_citInitial": 1,
   "eqLabelWithNumbers": true,
   "eqNumInitial": 1,
   "hotkeys": {
    "equation": "Ctrl-E",
    "itemize": "Ctrl-I"
   },
   "labels_anchors": false,
   "latex_user_defs": false,
   "report_style_numbering": false,
   "user_envs_cfg": false
  }
 },
 "nbformat": 4,
 "nbformat_minor": 5
}
